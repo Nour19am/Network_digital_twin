{
 "cells": [
  {
   "cell_type": "markdown",
   "id": "f87ddfef",
   "metadata": {},
   "source": [
    "Automate multiple NS-3 simulation scenarios using Python:\n",
    "\n",
    "- Number of links\n",
    "\n",
    "- Link characteristics (data rate, delay)\n",
    "\n",
    "- Queue types\n",
    "\n",
    "- App traffic (UDP/TCP, OnOff distribution, etc.)"
   ]
  },
  {
   "cell_type": "markdown",
   "id": "395fc942",
   "metadata": {},
   "source": [
    "https://github.com/signetlabdei/sem/blob/master/examples/Propagation%20Samples.ipynb"
   ]
  },
  {
   "cell_type": "code",
   "execution_count": 17,
   "id": "8d772e95",
   "metadata": {},
   "outputs": [],
   "source": [
    "import sem\n",
    "import matplotlib.pyplot as plt\n",
    "import seaborn as sns\n",
    "import pprint\n",
    "sns.set_style(\"whitegrid\")\n",
    "import random\n"
   ]
  },
  {
   "cell_type": "code",
   "execution_count": 13,
   "id": "4d2fe564",
   "metadata": {},
   "outputs": [],
   "source": [
    "import sem\n",
    "ns_path = 'ns-3-dev/'\n",
    "script = 'multi-links-sem'\n",
    "campaign_dir = 'testResults'\n",
    "campaign = sem.CampaignManager.new(\n",
    "    ns_path=ns_path,\n",
    "    script=script,\n",
    "    campaign_dir=campaign_dir,\n",
    "    overwrite=True,\n",
    "    max_parallel_processes=2\n",
    ")\n"
   ]
  },
  {
   "cell_type": "code",
   "execution_count": 7,
   "id": "abed5b8c",
   "metadata": {},
   "outputs": [
    {
     "name": "stdout",
     "output_type": "stream",
     "text": [
      "--- Campaign info ---\n",
      "script: multi-links-sem\n",
      "params: {'numLinks': 2.0, 'dataRates': '1Mbps,500Kbps', 'delays': '100ms,200ms', 'queueType': 'ns3::FifoQueueDisc', 'queueMaxSize': '100p', 'transportType': 'udp', 'onTimeType': 'Constant', 'onTimeParam': 1.0, 'offTimeType': 'Constant', 'offTimeParam': 0.5, 'appRate': '1Mbps', 'packetSize': 100.0}\n",
      "HEAD: a17161947b1f4f61bf7705508ce3ec87a499a02b\n",
      "Runner type: <class 'sem.parallelrunner.ParallelRunner'>\n",
      "-----------\n"
     ]
    }
   ],
   "source": [
    "print(campaign)"
   ]
  },
  {
   "cell_type": "markdown",
   "id": "c18b0c84",
   "metadata": {},
   "source": [
    "Try to run this to debug on the shell ./ns3 run \"scratch/multi-links-sem --numLinks=2 --dataRates=2Mbps,1Mbps --delays=100ms,200ms\""
   ]
  },
  {
   "cell_type": "code",
   "execution_count": null,
   "id": "656d9459",
   "metadata": {},
   "outputs": [],
   "source": [
    "    \"\"\"\n",
    "    ,\n",
    "    'queueType':[\"ns3::FifoQueueDisc\"],\n",
    "    'queueMaxSize': [\"10p\",\"50p\",\"100p\",\"500p\",\"1000p\"],#list(range(5, 1200,200)),\n",
    "    'transportType':[\"udp\"],#,\"tcp\"],\n",
    "    'onTimeType':[\"Constant\",\"Exponential\"],\n",
    "    'onTimeParam':[\"0.8\",\"1.0\",\"1.5\",\"2\"],\n",
    "    'offTimeType':[\"Constant\",\"Exponential\"],\n",
    "    'offTimeParam':[\"0.0\",\"0.4\",\"0.5\"],\n",
    "    'appRate':[\"200Kbps\",\"500Kbps\",\"1Mbps\",\"2Mbps\",\"10Mbps\"],\n",
    "    'packetSize':[\"512\",\"1000\",\"1400\"]\n",
    "    \"\"\""
   ]
  },
  {
   "cell_type": "code",
   "execution_count": null,
   "id": "9eb5471c",
   "metadata": {},
   "outputs": [
    {
     "name": "stderr",
     "output_type": "stream",
     "text": [
      "Running simulations: 100%|██████████| 17280/17280 [09:33<00:00, 30.12simulation/s]\n"
     ]
    }
   ],
   "source": [
    "#check the input of the datarates and delays\n",
    "params = {\n",
    "    'numLinks':[3], #for now fixed \n",
    "    \n",
    "    'dataRates':[\"1Mbps,2Mbps,3Mbps\",\"1Mbps,500Kbps,100Kbps\",\"10Mbps,1Mbps,500Kbps\"],\n",
    "    \n",
    "    'delays': [\"100ms,200ms,300ms\",\"300ms,200ms,100ms\",\"1000ms,200ms,500ms\",\"200ms,500ms,1000ms\"]\n",
    "\n",
    "\n",
    "}\n",
    "runs = 1 #specify how many randomized experiments we want sem to perform for each parameter combination\n",
    "\n",
    "campaign.run_missing_simulations(params, runs=runs) #this will run 17,280 experiments"
   ]
  },
  {
   "cell_type": "code",
   "execution_count": 19,
   "id": "90412032",
   "metadata": {},
   "outputs": [
    {
     "name": "stdout",
     "output_type": "stream",
     "text": [
      "There are 17280 results in the database\n",
      "\n",
      "This is an example result:\n",
      "\n",
      "{'meta': {'elapsed_time': 0.17952752113342285,\n",
      "          'exitcode': 0,\n",
      "          'id': 'bdc905c8-7c0e-4952-b9c4-93fe5768c65b'},\n",
      " 'output': {'stderr': '',\n",
      "            'stdout': 'rate parsed: 1Mbps\\n'\n",
      "                      'rate parsed: 500Kbps\\n'\n",
      "                      'rate parsed: 100Kbps\\n'\n",
      "                      'delay parsed: 300ms\\n'\n",
      "                      'delay parsed: 200ms\\n'\n",
      "                      'delay parsed: 100ms\\n'},\n",
      " 'params': {'RngRun': 7514,\n",
      "            'appRate': '1Mbps',\n",
      "            'dataRates': '1Mbps,500Kbps,100Kbps',\n",
      "            'delays': '300ms,200ms,100ms',\n",
      "            'numLinks': 3,\n",
      "            'offTimeParam': '0.4',\n",
      "            'offTimeType': 'Exponential',\n",
      "            'onTimeParam': '1.0',\n",
      "            'onTimeType': 'Constant',\n",
      "            'packetSize': '1000',\n",
      "            'queueMaxSize': '1000p',\n",
      "            'queueType': 'ns3::FifoQueueDisc',\n",
      "            'transportType': 'udp'}}\n"
     ]
    }
   ],
   "source": [
    "print(\"There are %s results in the database\\n\" % len(list(campaign.db.get_complete_results())))\n",
    "example_result = campaign.db.get_complete_results()[2]\n",
    "print(\"This is an example result:\\n\")\n",
    "pprint.pprint(example_result)"
   ]
  }
 ],
 "metadata": {
  "kernelspec": {
   "display_name": "centroid-env",
   "language": "python",
   "name": "python3"
  },
  "language_info": {
   "codemirror_mode": {
    "name": "ipython",
    "version": 3
   },
   "file_extension": ".py",
   "mimetype": "text/x-python",
   "name": "python",
   "nbconvert_exporter": "python",
   "pygments_lexer": "ipython3",
   "version": "3.10.18"
  }
 },
 "nbformat": 4,
 "nbformat_minor": 5
}
